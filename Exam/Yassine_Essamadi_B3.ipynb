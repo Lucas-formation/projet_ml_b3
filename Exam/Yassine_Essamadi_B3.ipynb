{
 "cells": [
  {
   "cell_type": "code",
   "execution_count": 1,
   "metadata": {},
   "outputs": [],
   "source": [
    "import pandas as pd\n",
    "import matplotlib.pyplot as plt\n",
    "import seaborn as sns"
   ]
  },
  {
   "cell_type": "code",
   "execution_count": 65,
   "metadata": {},
   "outputs": [
    {
     "data": {
      "text/html": [
       "<div>\n",
       "<style scoped>\n",
       "    .dataframe tbody tr th:only-of-type {\n",
       "        vertical-align: middle;\n",
       "    }\n",
       "\n",
       "    .dataframe tbody tr th {\n",
       "        vertical-align: top;\n",
       "    }\n",
       "\n",
       "    .dataframe thead th {\n",
       "        text-align: right;\n",
       "    }\n",
       "</style>\n",
       "<table border=\"1\" class=\"dataframe\">\n",
       "  <thead>\n",
       "    <tr style=\"text-align: right;\">\n",
       "      <th></th>\n",
       "      <th>PassengerId</th>\n",
       "      <th>Survived</th>\n",
       "      <th>Pclass</th>\n",
       "      <th>Name</th>\n",
       "      <th>Sex</th>\n",
       "      <th>Age</th>\n",
       "      <th>SibSp</th>\n",
       "      <th>Parch</th>\n",
       "      <th>Ticket</th>\n",
       "      <th>Fare</th>\n",
       "      <th>Cabin</th>\n",
       "      <th>Embarked</th>\n",
       "    </tr>\n",
       "  </thead>\n",
       "  <tbody>\n",
       "    <tr>\n",
       "      <th>0</th>\n",
       "      <td>1</td>\n",
       "      <td>0</td>\n",
       "      <td>3</td>\n",
       "      <td>Braund, Mr. Owen Harris</td>\n",
       "      <td>male</td>\n",
       "      <td>22.0</td>\n",
       "      <td>1</td>\n",
       "      <td>0</td>\n",
       "      <td>A/5 21171</td>\n",
       "      <td>7.2500</td>\n",
       "      <td>NaN</td>\n",
       "      <td>S</td>\n",
       "    </tr>\n",
       "    <tr>\n",
       "      <th>1</th>\n",
       "      <td>2</td>\n",
       "      <td>1</td>\n",
       "      <td>1</td>\n",
       "      <td>Cumings, Mrs. John Bradley (Florence Briggs Th...</td>\n",
       "      <td>female</td>\n",
       "      <td>38.0</td>\n",
       "      <td>1</td>\n",
       "      <td>0</td>\n",
       "      <td>PC 17599</td>\n",
       "      <td>71.2833</td>\n",
       "      <td>C85</td>\n",
       "      <td>C</td>\n",
       "    </tr>\n",
       "    <tr>\n",
       "      <th>2</th>\n",
       "      <td>3</td>\n",
       "      <td>1</td>\n",
       "      <td>3</td>\n",
       "      <td>Heikkinen, Miss. Laina</td>\n",
       "      <td>female</td>\n",
       "      <td>26.0</td>\n",
       "      <td>0</td>\n",
       "      <td>0</td>\n",
       "      <td>STON/O2. 3101282</td>\n",
       "      <td>7.9250</td>\n",
       "      <td>NaN</td>\n",
       "      <td>S</td>\n",
       "    </tr>\n",
       "    <tr>\n",
       "      <th>3</th>\n",
       "      <td>4</td>\n",
       "      <td>1</td>\n",
       "      <td>1</td>\n",
       "      <td>Futrelle, Mrs. Jacques Heath (Lily May Peel)</td>\n",
       "      <td>female</td>\n",
       "      <td>35.0</td>\n",
       "      <td>1</td>\n",
       "      <td>0</td>\n",
       "      <td>113803</td>\n",
       "      <td>53.1000</td>\n",
       "      <td>C123</td>\n",
       "      <td>S</td>\n",
       "    </tr>\n",
       "    <tr>\n",
       "      <th>4</th>\n",
       "      <td>5</td>\n",
       "      <td>0</td>\n",
       "      <td>3</td>\n",
       "      <td>Allen, Mr. William Henry</td>\n",
       "      <td>male</td>\n",
       "      <td>35.0</td>\n",
       "      <td>0</td>\n",
       "      <td>0</td>\n",
       "      <td>373450</td>\n",
       "      <td>8.0500</td>\n",
       "      <td>NaN</td>\n",
       "      <td>S</td>\n",
       "    </tr>\n",
       "    <tr>\n",
       "      <th>...</th>\n",
       "      <td>...</td>\n",
       "      <td>...</td>\n",
       "      <td>...</td>\n",
       "      <td>...</td>\n",
       "      <td>...</td>\n",
       "      <td>...</td>\n",
       "      <td>...</td>\n",
       "      <td>...</td>\n",
       "      <td>...</td>\n",
       "      <td>...</td>\n",
       "      <td>...</td>\n",
       "      <td>...</td>\n",
       "    </tr>\n",
       "    <tr>\n",
       "      <th>886</th>\n",
       "      <td>887</td>\n",
       "      <td>0</td>\n",
       "      <td>2</td>\n",
       "      <td>Montvila, Rev. Juozas</td>\n",
       "      <td>male</td>\n",
       "      <td>27.0</td>\n",
       "      <td>0</td>\n",
       "      <td>0</td>\n",
       "      <td>211536</td>\n",
       "      <td>13.0000</td>\n",
       "      <td>NaN</td>\n",
       "      <td>S</td>\n",
       "    </tr>\n",
       "    <tr>\n",
       "      <th>887</th>\n",
       "      <td>888</td>\n",
       "      <td>1</td>\n",
       "      <td>1</td>\n",
       "      <td>Graham, Miss. Margaret Edith</td>\n",
       "      <td>female</td>\n",
       "      <td>19.0</td>\n",
       "      <td>0</td>\n",
       "      <td>0</td>\n",
       "      <td>112053</td>\n",
       "      <td>30.0000</td>\n",
       "      <td>B42</td>\n",
       "      <td>S</td>\n",
       "    </tr>\n",
       "    <tr>\n",
       "      <th>888</th>\n",
       "      <td>889</td>\n",
       "      <td>0</td>\n",
       "      <td>3</td>\n",
       "      <td>Johnston, Miss. Catherine Helen \"Carrie\"</td>\n",
       "      <td>female</td>\n",
       "      <td>NaN</td>\n",
       "      <td>1</td>\n",
       "      <td>2</td>\n",
       "      <td>W./C. 6607</td>\n",
       "      <td>23.4500</td>\n",
       "      <td>NaN</td>\n",
       "      <td>S</td>\n",
       "    </tr>\n",
       "    <tr>\n",
       "      <th>889</th>\n",
       "      <td>890</td>\n",
       "      <td>1</td>\n",
       "      <td>1</td>\n",
       "      <td>Behr, Mr. Karl Howell</td>\n",
       "      <td>male</td>\n",
       "      <td>26.0</td>\n",
       "      <td>0</td>\n",
       "      <td>0</td>\n",
       "      <td>111369</td>\n",
       "      <td>30.0000</td>\n",
       "      <td>C148</td>\n",
       "      <td>C</td>\n",
       "    </tr>\n",
       "    <tr>\n",
       "      <th>890</th>\n",
       "      <td>891</td>\n",
       "      <td>0</td>\n",
       "      <td>3</td>\n",
       "      <td>Dooley, Mr. Patrick</td>\n",
       "      <td>male</td>\n",
       "      <td>32.0</td>\n",
       "      <td>0</td>\n",
       "      <td>0</td>\n",
       "      <td>370376</td>\n",
       "      <td>7.7500</td>\n",
       "      <td>NaN</td>\n",
       "      <td>Q</td>\n",
       "    </tr>\n",
       "  </tbody>\n",
       "</table>\n",
       "<p>891 rows × 12 columns</p>\n",
       "</div>"
      ],
      "text/plain": [
       "     PassengerId  Survived  Pclass  \\\n",
       "0              1         0       3   \n",
       "1              2         1       1   \n",
       "2              3         1       3   \n",
       "3              4         1       1   \n",
       "4              5         0       3   \n",
       "..           ...       ...     ...   \n",
       "886          887         0       2   \n",
       "887          888         1       1   \n",
       "888          889         0       3   \n",
       "889          890         1       1   \n",
       "890          891         0       3   \n",
       "\n",
       "                                                  Name     Sex   Age  SibSp  \\\n",
       "0                              Braund, Mr. Owen Harris    male  22.0      1   \n",
       "1    Cumings, Mrs. John Bradley (Florence Briggs Th...  female  38.0      1   \n",
       "2                               Heikkinen, Miss. Laina  female  26.0      0   \n",
       "3         Futrelle, Mrs. Jacques Heath (Lily May Peel)  female  35.0      1   \n",
       "4                             Allen, Mr. William Henry    male  35.0      0   \n",
       "..                                                 ...     ...   ...    ...   \n",
       "886                              Montvila, Rev. Juozas    male  27.0      0   \n",
       "887                       Graham, Miss. Margaret Edith  female  19.0      0   \n",
       "888           Johnston, Miss. Catherine Helen \"Carrie\"  female   NaN      1   \n",
       "889                              Behr, Mr. Karl Howell    male  26.0      0   \n",
       "890                                Dooley, Mr. Patrick    male  32.0      0   \n",
       "\n",
       "     Parch            Ticket     Fare Cabin Embarked  \n",
       "0        0         A/5 21171   7.2500   NaN        S  \n",
       "1        0          PC 17599  71.2833   C85        C  \n",
       "2        0  STON/O2. 3101282   7.9250   NaN        S  \n",
       "3        0            113803  53.1000  C123        S  \n",
       "4        0            373450   8.0500   NaN        S  \n",
       "..     ...               ...      ...   ...      ...  \n",
       "886      0            211536  13.0000   NaN        S  \n",
       "887      0            112053  30.0000   B42        S  \n",
       "888      2        W./C. 6607  23.4500   NaN        S  \n",
       "889      0            111369  30.0000  C148        C  \n",
       "890      0            370376   7.7500   NaN        Q  \n",
       "\n",
       "[891 rows x 12 columns]"
      ]
     },
     "execution_count": 65,
     "metadata": {},
     "output_type": "execute_result"
    }
   ],
   "source": [
    "titanic = pd.read_csv('datasets/train.csv')\n",
    "titanic"
   ]
  },
  {
   "cell_type": "code",
   "execution_count": 66,
   "metadata": {},
   "outputs": [],
   "source": [
    "titanic.drop(['Name', 'Ticket', 'Fare', 'Cabin'],axis=1,inplace=True)"
   ]
  },
  {
   "cell_type": "code",
   "execution_count": 67,
   "metadata": {},
   "outputs": [
    {
     "data": {
      "text/plain": [
       "PassengerId      0\n",
       "Survived         0\n",
       "Pclass           0\n",
       "Sex              0\n",
       "Age            177\n",
       "SibSp            0\n",
       "Parch            0\n",
       "Embarked         2\n",
       "dtype: int64"
      ]
     },
     "execution_count": 67,
     "metadata": {},
     "output_type": "execute_result"
    }
   ],
   "source": [
    "titanic.isna().sum()"
   ]
  },
  {
   "cell_type": "markdown",
   "metadata": {},
   "source": [
    "### Cleaning Data on Train & Test Dataset"
   ]
  },
  {
   "cell_type": "code",
   "execution_count": 68,
   "metadata": {},
   "outputs": [],
   "source": [
    "titanic.fillna(titanic.Age.mean(),inplace=True)"
   ]
  },
  {
   "cell_type": "code",
   "execution_count": 69,
   "metadata": {},
   "outputs": [
    {
     "data": {
      "text/plain": [
       "PassengerId    0\n",
       "Survived       0\n",
       "Pclass         0\n",
       "Sex            0\n",
       "Age            0\n",
       "SibSp          0\n",
       "Parch          0\n",
       "Embarked       0\n",
       "dtype: int64"
      ]
     },
     "execution_count": 69,
     "metadata": {},
     "output_type": "execute_result"
    }
   ],
   "source": [
    "titanic.isna().sum()"
   ]
  },
  {
   "cell_type": "code",
   "execution_count": 70,
   "metadata": {},
   "outputs": [
    {
     "data": {
      "text/html": [
       "<div>\n",
       "<style scoped>\n",
       "    .dataframe tbody tr th:only-of-type {\n",
       "        vertical-align: middle;\n",
       "    }\n",
       "\n",
       "    .dataframe tbody tr th {\n",
       "        vertical-align: top;\n",
       "    }\n",
       "\n",
       "    .dataframe thead th {\n",
       "        text-align: right;\n",
       "    }\n",
       "</style>\n",
       "<table border=\"1\" class=\"dataframe\">\n",
       "  <thead>\n",
       "    <tr style=\"text-align: right;\">\n",
       "      <th></th>\n",
       "      <th>PassengerId</th>\n",
       "      <th>Survived</th>\n",
       "      <th>Pclass</th>\n",
       "      <th>Age</th>\n",
       "      <th>SibSp</th>\n",
       "      <th>Parch</th>\n",
       "    </tr>\n",
       "  </thead>\n",
       "  <tbody>\n",
       "    <tr>\n",
       "      <th>count</th>\n",
       "      <td>891.000000</td>\n",
       "      <td>891.000000</td>\n",
       "      <td>891.000000</td>\n",
       "      <td>891.000000</td>\n",
       "      <td>891.000000</td>\n",
       "      <td>891.000000</td>\n",
       "    </tr>\n",
       "    <tr>\n",
       "      <th>mean</th>\n",
       "      <td>446.000000</td>\n",
       "      <td>0.383838</td>\n",
       "      <td>2.308642</td>\n",
       "      <td>29.699118</td>\n",
       "      <td>0.523008</td>\n",
       "      <td>0.381594</td>\n",
       "    </tr>\n",
       "    <tr>\n",
       "      <th>std</th>\n",
       "      <td>257.353842</td>\n",
       "      <td>0.486592</td>\n",
       "      <td>0.836071</td>\n",
       "      <td>13.002015</td>\n",
       "      <td>1.102743</td>\n",
       "      <td>0.806057</td>\n",
       "    </tr>\n",
       "    <tr>\n",
       "      <th>min</th>\n",
       "      <td>1.000000</td>\n",
       "      <td>0.000000</td>\n",
       "      <td>1.000000</td>\n",
       "      <td>0.420000</td>\n",
       "      <td>0.000000</td>\n",
       "      <td>0.000000</td>\n",
       "    </tr>\n",
       "    <tr>\n",
       "      <th>25%</th>\n",
       "      <td>223.500000</td>\n",
       "      <td>0.000000</td>\n",
       "      <td>2.000000</td>\n",
       "      <td>22.000000</td>\n",
       "      <td>0.000000</td>\n",
       "      <td>0.000000</td>\n",
       "    </tr>\n",
       "    <tr>\n",
       "      <th>50%</th>\n",
       "      <td>446.000000</td>\n",
       "      <td>0.000000</td>\n",
       "      <td>3.000000</td>\n",
       "      <td>29.699118</td>\n",
       "      <td>0.000000</td>\n",
       "      <td>0.000000</td>\n",
       "    </tr>\n",
       "    <tr>\n",
       "      <th>75%</th>\n",
       "      <td>668.500000</td>\n",
       "      <td>1.000000</td>\n",
       "      <td>3.000000</td>\n",
       "      <td>35.000000</td>\n",
       "      <td>1.000000</td>\n",
       "      <td>0.000000</td>\n",
       "    </tr>\n",
       "    <tr>\n",
       "      <th>max</th>\n",
       "      <td>891.000000</td>\n",
       "      <td>1.000000</td>\n",
       "      <td>3.000000</td>\n",
       "      <td>80.000000</td>\n",
       "      <td>8.000000</td>\n",
       "      <td>6.000000</td>\n",
       "    </tr>\n",
       "  </tbody>\n",
       "</table>\n",
       "</div>"
      ],
      "text/plain": [
       "       PassengerId    Survived      Pclass         Age       SibSp       Parch\n",
       "count   891.000000  891.000000  891.000000  891.000000  891.000000  891.000000\n",
       "mean    446.000000    0.383838    2.308642   29.699118    0.523008    0.381594\n",
       "std     257.353842    0.486592    0.836071   13.002015    1.102743    0.806057\n",
       "min       1.000000    0.000000    1.000000    0.420000    0.000000    0.000000\n",
       "25%     223.500000    0.000000    2.000000   22.000000    0.000000    0.000000\n",
       "50%     446.000000    0.000000    3.000000   29.699118    0.000000    0.000000\n",
       "75%     668.500000    1.000000    3.000000   35.000000    1.000000    0.000000\n",
       "max     891.000000    1.000000    3.000000   80.000000    8.000000    6.000000"
      ]
     },
     "execution_count": 70,
     "metadata": {},
     "output_type": "execute_result"
    }
   ],
   "source": [
    "titanic.describe()"
   ]
  },
  {
   "cell_type": "markdown",
   "metadata": {},
   "source": [
    "### Correlation "
   ]
  },
  {
   "cell_type": "code",
   "execution_count": 71,
   "metadata": {},
   "outputs": [
    {
     "data": {
      "image/png": "[encoded data removed]",
      "text/plain": [
       "<Figure size 1080x720 with 2 Axes>"
      ]
     },
     "metadata": {
      "needs_background": "light"
     },
     "output_type": "display_data"
    }
   ],
   "source": [
    "plt.figure(figsize=(15,10))\n",
    "sns.heatmap(titanic.corr(), annot=True)\n",
    "plt.show()"
   ]
  },
  {
   "cell_type": "code",
   "execution_count": 72,
   "metadata": {},
   "outputs": [
    {
     "data": {
      "text/plain": [
       "<AxesSubplot:xlabel='Sex', ylabel='count'>"
      ]
     },
     "execution_count": 72,
     "metadata": {},
     "output_type": "execute_result"
    },
    {
     "data": {
      "image/png": "[encoded data removed]",
      "text/plain": [
       "<Figure size 432x288 with 1 Axes>"
      ]
     },
     "metadata": {
      "needs_background": "light"
     },
     "output_type": "display_data"
    }
   ],
   "source": [
    "sns.countplot(x='Sex', data=titanic)"
   ]
  },
  {
   "cell_type": "code",
   "execution_count": 73,
   "metadata": {},
   "outputs": [],
   "source": [
    "titanic['Sex'].replace(['male','female'],[0, 1], inplace=True)\n",
    "titanic['Embarked'].replace(['C','Q','S'],[0, 1, 2], inplace=True)"
   ]
  },
  {
   "cell_type": "code",
   "execution_count": 74,
   "metadata": {},
   "outputs": [],
   "source": [
    "X=titanic.drop('Sex',axis=1)\n",
    "y=titanic['Sex']"
   ]
  },
  {
   "cell_type": "code",
   "execution_count": 75,
   "metadata": {},
   "outputs": [
    {
     "data": {
      "text/html": [
       "<div>\n",
       "<style scoped>\n",
       "    .dataframe tbody tr th:only-of-type {\n",
       "        vertical-align: middle;\n",
       "    }\n",
       "\n",
       "    .dataframe tbody tr th {\n",
       "        vertical-align: top;\n",
       "    }\n",
       "\n",
       "    .dataframe thead th {\n",
       "        text-align: right;\n",
       "    }\n",
       "</style>\n",
       "<table border=\"1\" class=\"dataframe\">\n",
       "  <thead>\n",
       "    <tr style=\"text-align: right;\">\n",
       "      <th></th>\n",
       "      <th>PassengerId</th>\n",
       "      <th>Survived</th>\n",
       "      <th>Pclass</th>\n",
       "      <th>Age</th>\n",
       "      <th>SibSp</th>\n",
       "      <th>Parch</th>\n",
       "      <th>Embarked</th>\n",
       "    </tr>\n",
       "  </thead>\n",
       "  <tbody>\n",
       "    <tr>\n",
       "      <th>0</th>\n",
       "      <td>1</td>\n",
       "      <td>0</td>\n",
       "      <td>3</td>\n",
       "      <td>22.000000</td>\n",
       "      <td>1</td>\n",
       "      <td>0</td>\n",
       "      <td>2.0</td>\n",
       "    </tr>\n",
       "    <tr>\n",
       "      <th>1</th>\n",
       "      <td>2</td>\n",
       "      <td>1</td>\n",
       "      <td>1</td>\n",
       "      <td>38.000000</td>\n",
       "      <td>1</td>\n",
       "      <td>0</td>\n",
       "      <td>0.0</td>\n",
       "    </tr>\n",
       "    <tr>\n",
       "      <th>2</th>\n",
       "      <td>3</td>\n",
       "      <td>1</td>\n",
       "      <td>3</td>\n",
       "      <td>26.000000</td>\n",
       "      <td>0</td>\n",
       "      <td>0</td>\n",
       "      <td>2.0</td>\n",
       "    </tr>\n",
       "    <tr>\n",
       "      <th>3</th>\n",
       "      <td>4</td>\n",
       "      <td>1</td>\n",
       "      <td>1</td>\n",
       "      <td>35.000000</td>\n",
       "      <td>1</td>\n",
       "      <td>0</td>\n",
       "      <td>2.0</td>\n",
       "    </tr>\n",
       "    <tr>\n",
       "      <th>4</th>\n",
       "      <td>5</td>\n",
       "      <td>0</td>\n",
       "      <td>3</td>\n",
       "      <td>35.000000</td>\n",
       "      <td>0</td>\n",
       "      <td>0</td>\n",
       "      <td>2.0</td>\n",
       "    </tr>\n",
       "    <tr>\n",
       "      <th>...</th>\n",
       "      <td>...</td>\n",
       "      <td>...</td>\n",
       "      <td>...</td>\n",
       "      <td>...</td>\n",
       "      <td>...</td>\n",
       "      <td>...</td>\n",
       "      <td>...</td>\n",
       "    </tr>\n",
       "    <tr>\n",
       "      <th>886</th>\n",
       "      <td>887</td>\n",
       "      <td>0</td>\n",
       "      <td>2</td>\n",
       "      <td>27.000000</td>\n",
       "      <td>0</td>\n",
       "      <td>0</td>\n",
       "      <td>2.0</td>\n",
       "    </tr>\n",
       "    <tr>\n",
       "      <th>887</th>\n",
       "      <td>888</td>\n",
       "      <td>1</td>\n",
       "      <td>1</td>\n",
       "      <td>19.000000</td>\n",
       "      <td>0</td>\n",
       "      <td>0</td>\n",
       "      <td>2.0</td>\n",
       "    </tr>\n",
       "    <tr>\n",
       "      <th>888</th>\n",
       "      <td>889</td>\n",
       "      <td>0</td>\n",
       "      <td>3</td>\n",
       "      <td>29.699118</td>\n",
       "      <td>1</td>\n",
       "      <td>2</td>\n",
       "      <td>2.0</td>\n",
       "    </tr>\n",
       "    <tr>\n",
       "      <th>889</th>\n",
       "      <td>890</td>\n",
       "      <td>1</td>\n",
       "      <td>1</td>\n",
       "      <td>26.000000</td>\n",
       "      <td>0</td>\n",
       "      <td>0</td>\n",
       "      <td>0.0</td>\n",
       "    </tr>\n",
       "    <tr>\n",
       "      <th>890</th>\n",
       "      <td>891</td>\n",
       "      <td>0</td>\n",
       "      <td>3</td>\n",
       "      <td>32.000000</td>\n",
       "      <td>0</td>\n",
       "      <td>0</td>\n",
       "      <td>1.0</td>\n",
       "    </tr>\n",
       "  </tbody>\n",
       "</table>\n",
       "<p>891 rows × 7 columns</p>\n",
       "</div>"
      ],
      "text/plain": [
       "     PassengerId  Survived  Pclass        Age  SibSp  Parch  Embarked\n",
       "0              1         0       3  22.000000      1      0       2.0\n",
       "1              2         1       1  38.000000      1      0       0.0\n",
       "2              3         1       3  26.000000      0      0       2.0\n",
       "3              4         1       1  35.000000      1      0       2.0\n",
       "4              5         0       3  35.000000      0      0       2.0\n",
       "..           ...       ...     ...        ...    ...    ...       ...\n",
       "886          887         0       2  27.000000      0      0       2.0\n",
       "887          888         1       1  19.000000      0      0       2.0\n",
       "888          889         0       3  29.699118      1      2       2.0\n",
       "889          890         1       1  26.000000      0      0       0.0\n",
       "890          891         0       3  32.000000      0      0       1.0\n",
       "\n",
       "[891 rows x 7 columns]"
      ]
     },
     "execution_count": 75,
     "metadata": {},
     "output_type": "execute_result"
    }
   ],
   "source": [
    "X"
   ]
  },
  {
   "cell_type": "code",
   "execution_count": 76,
   "metadata": {},
   "outputs": [],
   "source": [
    "from sklearn.model_selection import train_test_split\n",
    "X_train, X_test, y_train, y_test = train_test_split(X, y,test_size=0.25, random_state=42)\n"
   ]
  },
  {
   "cell_type": "markdown",
   "metadata": {},
   "source": [
    "### Decision Tree"
   ]
  },
  {
   "cell_type": "code",
   "execution_count": 77,
   "metadata": {},
   "outputs": [
    {
     "data": {
      "text/plain": [
       "DecisionTreeClassifier(random_state=42)"
      ]
     },
     "execution_count": 77,
     "metadata": {},
     "output_type": "execute_result"
    }
   ],
   "source": [
    "from sklearn.tree import DecisionTreeClassifier\n",
    "dtree = DecisionTreeClassifier(random_state=42)\n",
    "dtree"
   ]
  },
  {
   "cell_type": "code",
   "execution_count": 78,
   "metadata": {},
   "outputs": [
    {
     "data": {
      "text/plain": [
       "DecisionTreeClassifier(random_state=42)"
      ]
     },
     "execution_count": 78,
     "metadata": {},
     "output_type": "execute_result"
    }
   ],
   "source": [
    "dtree.fit(X_train, y_train)"
   ]
  },
  {
   "cell_type": "code",
   "execution_count": 96,
   "metadata": {},
   "outputs": [
    {
     "data": {
      "text/plain": [
       "0.7130044843049327"
      ]
     },
     "execution_count": 96,
     "metadata": {},
     "output_type": "execute_result"
    }
   ],
   "source": [
    "y_tree_pred = dtree.predict(X_test)\n",
    "accuracy_score(y_test,y_tree_pred)"
   ]
  },
  {
   "cell_type": "code",
   "execution_count": 95,
   "metadata": {},
   "outputs": [
    {
     "data": {
      "text/plain": [
       "<AxesSubplot:>"
      ]
     },
     "execution_count": 95,
     "metadata": {},
     "output_type": "execute_result"
    },
    {
     "data": {
      "image/png": "[encoded data removed]",
      "text/plain": [
       "<Figure size 432x288 with 2 Axes>"
      ]
     },
     "metadata": {
      "needs_background": "light"
     },
     "output_type": "display_data"
    }
   ],
   "source": [
    "from sklearn.metrics import confusion_matrix\n",
    "import seaborn as sns\n",
    "import numpy as np\n",
    "cf_matrix = confusion_matrix(y_test,y_tree_pred)\n",
    "sns.heatmap(cf_matrix, annot=True,fmt='', cmap='Blues')"
   ]
  },
  {
   "cell_type": "code",
   "execution_count": 80,
   "metadata": {},
   "outputs": [
    {
     "data": {
      "text/plain": [
       "[Text(0.44216327519379844, 0.9705882352941176, 'X[1] <= 0.5\\ngini = 0.451\\nsamples = 668\\nvalue = [439, 229]'),\n",
       " Text(0.23280038759689922, 0.9117647058823529, 'X[5] <= 1.5\\ngini = 0.244\\nsamples = 415\\nvalue = [356, 59]'),\n",
       " Text(0.10901162790697674, 0.8529411764705882, 'X[2] <= 2.5\\ngini = 0.186\\nsamples = 376\\nvalue = [337, 39]'),\n",
       " Text(0.031007751937984496, 0.7941176470588235, 'X[0] <= 52.5\\ngini = 0.031\\nsamples = 125\\nvalue = [123, 2]'),\n",
       " Text(0.015503875968992248, 0.7352941176470589, 'X[3] <= 27.5\\ngini = 0.32\\nsamples = 5\\nvalue = [4, 1]'),\n",
       " Text(0.007751937984496124, 0.6764705882352942, 'gini = 0.0\\nsamples = 1\\nvalue = [0, 1]'),\n",
       " Text(0.023255813953488372, 0.6764705882352942, 'gini = 0.0\\nsamples = 4\\nvalue = [4, 0]'),\n",
       " Text(0.046511627906976744, 0.7352941176470589, 'X[0] <= 178.5\\ngini = 0.017\\nsamples = 120\\nvalue = [119, 1]'),\n",
       " Text(0.03875968992248062, 0.6764705882352942, 'X[0] <= 174.5\\ngini = 0.111\\nsamples = 17\\nvalue = [16, 1]'),\n",
       " Text(0.031007751937984496, 0.6176470588235294, 'gini = 0.0\\nsamples = 16\\nvalue = [16, 0]'),\n",
       " Text(0.046511627906976744, 0.6176470588235294, 'gini = 0.0\\nsamples = 1\\nvalue = [0, 1]'),\n",
       " Text(0.05426356589147287, 0.6764705882352942, 'gini = 0.0\\nsamples = 103\\nvalue = [103, 0]'),\n",
       " Text(0.187015503875969, 0.7941176470588235, 'X[4] <= 0.5\\ngini = 0.251\\nsamples = 251\\nvalue = [214, 37]'),\n",
       " Text(0.10271317829457365, 0.7352941176470589, 'X[3] <= 18.5\\ngini = 0.189\\nsamples = 199\\nvalue = [178, 21]'),\n",
       " Text(0.06976744186046512, 0.6764705882352942, 'X[0] <= 127.0\\ngini = 0.457\\nsamples = 17\\nvalue = [11, 6]'),\n",
       " Text(0.06201550387596899, 0.6176470588235294, 'gini = 0.0\\nsamples = 2\\nvalue = [0, 2]'),\n",
       " Text(0.07751937984496124, 0.6176470588235294, 'X[5] <= 0.5\\ngini = 0.391\\nsamples = 15\\nvalue = [11, 4]'),\n",
       " Text(0.06976744186046512, 0.5588235294117647, 'X[3] <= 17.5\\ngini = 0.26\\nsamples = 13\\nvalue = [11, 2]'),\n",
       " Text(0.06201550387596899, 0.5, 'gini = 0.0\\nsamples = 8\\nvalue = [8, 0]'),\n",
       " Text(0.07751937984496124, 0.5, 'X[0] <= 665.5\\ngini = 0.48\\nsamples = 5\\nvalue = [3, 2]'),\n",
       " Text(0.06976744186046512, 0.4411764705882353, 'gini = 0.0\\nsamples = 1\\nvalue = [0, 1]'),\n",
       " Text(0.08527131782945736, 0.4411764705882353, 'X[0] <= 792.0\\ngini = 0.375\\nsamples = 4\\nvalue = [3, 1]'),\n",
       " Text(0.07751937984496124, 0.38235294117647056, 'gini = 0.0\\nsamples = 2\\nvalue = [2, 0]'),\n",
       " Text(0.09302325581395349, 0.38235294117647056, 'X[0] <= 821.5\\ngini = 0.5\\nsamples = 2\\nvalue = [1, 1]'),\n",
       " Text(0.08527131782945736, 0.3235294117647059, 'gini = 0.0\\nsamples = 1\\nvalue = [0, 1]'),\n",
       " Text(0.10077519379844961, 0.3235294117647059, 'gini = 0.0\\nsamples = 1\\nvalue = [1, 0]'),\n",
       " Text(0.08527131782945736, 0.5588235294117647, 'gini = 0.0\\nsamples = 2\\nvalue = [0, 2]'),\n",
       " Text(0.13565891472868216, 0.6764705882352942, 'X[0] <= 245.5\\ngini = 0.151\\nsamples = 182\\nvalue = [167, 15]'),\n",
       " Text(0.10852713178294573, 0.6176470588235294, 'X[0] <= 102.5\\ngini = 0.04\\nsamples = 49\\nvalue = [48, 1]'),\n",
       " Text(0.10077519379844961, 0.5588235294117647, 'X[0] <= 98.5\\ngini = 0.105\\nsamples = 18\\nvalue = [17, 1]'),\n",
       " Text(0.09302325581395349, 0.5, 'gini = 0.0\\nsamples = 17\\nvalue = [17, 0]'),\n",
       " Text(0.10852713178294573, 0.5, 'gini = 0.0\\nsamples = 1\\nvalue = [0, 1]'),\n",
       " Text(0.11627906976744186, 0.5588235294117647, 'gini = 0.0\\nsamples = 31\\nvalue = [31, 0]'),\n",
       " Text(0.16279069767441862, 0.6176470588235294, 'X[0] <= 281.5\\ngini = 0.188\\nsamples = 133\\nvalue = [119, 14]'),\n",
       " Text(0.13178294573643412, 0.5588235294117647, 'X[6] <= 1.5\\ngini = 0.375\\nsamples = 4\\nvalue = [1, 3]'),\n",
       " Text(0.12403100775193798, 0.5, 'X[0] <= 263.0\\ngini = 0.5\\nsamples = 2\\nvalue = [1, 1]'),\n",
       " Text(0.11627906976744186, 0.4411764705882353, 'gini = 0.0\\nsamples = 1\\nvalue = [1, 0]'),\n",
       " Text(0.13178294573643412, 0.4411764705882353, 'gini = 0.0\\nsamples = 1\\nvalue = [0, 1]'),\n",
       " Text(0.13953488372093023, 0.5, 'gini = 0.0\\nsamples = 2\\nvalue = [0, 2]'),\n",
       " Text(0.1937984496124031, 0.5588235294117647, 'X[3] <= 24.25\\ngini = 0.156\\nsamples = 129\\nvalue = [118, 11]'),\n",
       " Text(0.16279069767441862, 0.5, 'X[0] <= 794.0\\ngini = 0.312\\nsamples = 31\\nvalue = [25, 6]'),\n",
       " Text(0.14728682170542637, 0.4411764705882353, 'X[0] <= 534.5\\ngini = 0.245\\nsamples = 28\\nvalue = [24, 4]'),\n",
       " Text(0.13953488372093023, 0.38235294117647056, 'X[0] <= 501.0\\ngini = 0.375\\nsamples = 16\\nvalue = [12, 4]'),\n",
       " Text(0.13178294573643412, 0.3235294117647059, 'X[0] <= 298.5\\ngini = 0.32\\nsamples = 15\\nvalue = [12, 3]'),\n",
       " Text(0.11627906976744186, 0.2647058823529412, 'X[0] <= 291.0\\ngini = 0.5\\nsamples = 2\\nvalue = [1, 1]'),\n",
       " Text(0.10852713178294573, 0.20588235294117646, 'gini = 0.0\\nsamples = 1\\nvalue = [1, 0]'),\n",
       " Text(0.12403100775193798, 0.20588235294117646, 'gini = 0.0\\nsamples = 1\\nvalue = [0, 1]'),\n",
       " Text(0.14728682170542637, 0.2647058823529412, 'X[0] <= 400.5\\ngini = 0.26\\nsamples = 13\\nvalue = [11, 2]'),\n",
       " Text(0.13953488372093023, 0.20588235294117646, 'gini = 0.0\\nsamples = 6\\nvalue = [6, 0]'),\n",
       " Text(0.15503875968992248, 0.20588235294117646, 'X[0] <= 413.5\\ngini = 0.408\\nsamples = 7\\nvalue = [5, 2]'),\n",
       " Text(0.14728682170542637, 0.14705882352941177, 'gini = 0.0\\nsamples = 1\\nvalue = [0, 1]'),\n",
       " Text(0.16279069767441862, 0.14705882352941177, 'X[0] <= 477.0\\ngini = 0.278\\nsamples = 6\\nvalue = [5, 1]'),\n",
       " Text(0.15503875968992248, 0.08823529411764706, 'X[3] <= 21.5\\ngini = 0.444\\nsamples = 3\\nvalue = [2, 1]'),\n",
       " Text(0.14728682170542637, 0.029411764705882353, 'gini = 0.0\\nsamples = 2\\nvalue = [2, 0]'),\n",
       " Text(0.16279069767441862, 0.029411764705882353, 'gini = 0.0\\nsamples = 1\\nvalue = [0, 1]'),\n",
       " Text(0.17054263565891473, 0.08823529411764706, 'gini = 0.0\\nsamples = 3\\nvalue = [3, 0]'),\n",
       " Text(0.14728682170542637, 0.3235294117647059, 'gini = 0.0\\nsamples = 1\\nvalue = [0, 1]'),\n",
       " Text(0.15503875968992248, 0.38235294117647056, 'gini = 0.0\\nsamples = 12\\nvalue = [12, 0]'),\n",
       " Text(0.17829457364341086, 0.4411764705882353, 'X[3] <= 21.5\\ngini = 0.444\\nsamples = 3\\nvalue = [1, 2]'),\n",
       " Text(0.17054263565891473, 0.38235294117647056, 'gini = 0.0\\nsamples = 1\\nvalue = [1, 0]'),\n",
       " Text(0.18604651162790697, 0.38235294117647056, 'gini = 0.0\\nsamples = 2\\nvalue = [0, 2]'),\n",
       " Text(0.2248062015503876, 0.5, 'X[0] <= 567.0\\ngini = 0.097\\nsamples = 98\\nvalue = [93, 5]'),\n",
       " Text(0.20930232558139536, 0.4411764705882353, 'X[0] <= 564.5\\ngini = 0.184\\nsamples = 39\\nvalue = [35, 4]'),\n",
       " Text(0.20155038759689922, 0.38235294117647056, 'X[0] <= 506.5\\ngini = 0.145\\nsamples = 38\\nvalue = [35, 3]'),\n",
       " Text(0.1937984496124031, 0.3235294117647059, 'X[0] <= 500.5\\ngini = 0.211\\nsamples = 25\\nvalue = [22, 3]'),\n",
       " Text(0.18604651162790697, 0.2647058823529412, 'X[0] <= 414.0\\ngini = 0.083\\nsamples = 23\\nvalue = [22, 1]'),\n",
       " Text(0.17829457364341086, 0.20588235294117646, 'gini = 0.0\\nsamples = 12\\nvalue = [12, 0]'),\n",
       " Text(0.1937984496124031, 0.20588235294117646, 'X[0] <= 418.5\\ngini = 0.165\\nsamples = 11\\nvalue = [10, 1]'),\n",
       " Text(0.18604651162790697, 0.14705882352941177, 'gini = 0.0\\nsamples = 1\\nvalue = [0, 1]'),\n",
       " Text(0.20155038759689922, 0.14705882352941177, 'gini = 0.0\\nsamples = 10\\nvalue = [10, 0]'),\n",
       " Text(0.20155038759689922, 0.2647058823529412, 'gini = 0.0\\nsamples = 2\\nvalue = [0, 2]'),\n",
       " Text(0.20930232558139536, 0.3235294117647059, 'gini = 0.0\\nsamples = 13\\nvalue = [13, 0]'),\n",
       " Text(0.21705426356589147, 0.38235294117647056, 'gini = 0.0\\nsamples = 1\\nvalue = [0, 1]'),\n",
       " Text(0.24031007751937986, 0.4411764705882353, 'X[6] <= 1.5\\ngini = 0.033\\nsamples = 59\\nvalue = [58, 1]'),\n",
       " Text(0.23255813953488372, 0.38235294117647056, 'X[0] <= 687.5\\ngini = 0.105\\nsamples = 18\\nvalue = [17, 1]'),\n",
       " Text(0.2248062015503876, 0.3235294117647059, 'X[0] <= 671.5\\ngini = 0.278\\nsamples = 6\\nvalue = [5, 1]'),\n",
       " Text(0.21705426356589147, 0.2647058823529412, 'gini = 0.0\\nsamples = 5\\nvalue = [5, 0]'),\n",
       " Text(0.23255813953488372, 0.2647058823529412, 'gini = 0.0\\nsamples = 1\\nvalue = [0, 1]'),\n",
       " Text(0.24031007751937986, 0.3235294117647059, 'gini = 0.0\\nsamples = 12\\nvalue = [12, 0]'),\n",
       " Text(0.24806201550387597, 0.38235294117647056, 'gini = 0.0\\nsamples = 41\\nvalue = [41, 0]'),\n",
       " Text(0.2713178294573643, 0.7352941176470589, 'X[4] <= 3.5\\ngini = 0.426\\nsamples = 52\\nvalue = [36, 16]'),\n",
       " Text(0.26356589147286824, 0.6764705882352942, 'X[3] <= 14.75\\ngini = 0.463\\nsamples = 44\\nvalue = [28, 16]'),\n",
       " Text(0.2558139534883721, 0.6176470588235294, 'gini = 0.0\\nsamples = 3\\nvalue = [0, 3]'),\n",
       " Text(0.2713178294573643, 0.6176470588235294, 'X[0] <= 44.0\\ngini = 0.433\\nsamples = 41\\nvalue = [28, 13]'),\n",
       " Text(0.2558139534883721, 0.5588235294117647, 'X[0] <= 10.0\\ngini = 0.375\\nsamples = 4\\nvalue = [1, 3]'),\n",
       " Text(0.24806201550387597, 0.5, 'gini = 0.0\\nsamples = 1\\nvalue = [1, 0]'),\n",
       " Text(0.26356589147286824, 0.5, 'gini = 0.0\\nsamples = 3\\nvalue = [0, 3]'),\n",
       " Text(0.2868217054263566, 0.5588235294117647, 'X[3] <= 44.0\\ngini = 0.394\\nsamples = 37\\nvalue = [27, 10]'),\n",
       " Text(0.27906976744186046, 0.5, 'X[3] <= 31.0\\ngini = 0.375\\nsamples = 36\\nvalue = [27, 9]'),\n",
       " Text(0.2713178294573643, 0.4411764705882353, 'X[0] <= 784.5\\ngini = 0.42\\nsamples = 30\\nvalue = [21, 9]'),\n",
       " Text(0.26356589147286824, 0.38235294117647056, 'X[3] <= 19.0\\ngini = 0.4\\nsamples = 29\\nvalue = [21, 8]'),\n",
       " Text(0.2558139534883721, 0.3235294117647059, 'gini = 0.0\\nsamples = 4\\nvalue = [4, 0]'),\n",
       " Text(0.2713178294573643, 0.3235294117647059, 'X[3] <= 22.5\\ngini = 0.435\\nsamples = 25\\nvalue = [17, 8]'),\n",
       " Text(0.26356589147286824, 0.2647058823529412, 'gini = 0.0\\nsamples = 2\\nvalue = [0, 2]'),\n",
       " Text(0.27906976744186046, 0.2647058823529412, 'X[5] <= 0.5\\ngini = 0.386\\nsamples = 23\\nvalue = [17, 6]'),\n",
       " Text(0.2596899224806202, 0.20588235294117646, 'X[0] <= 592.0\\ngini = 0.266\\nsamples = 19\\nvalue = [16, 3]'),\n",
       " Text(0.2441860465116279, 0.14705882352941177, 'X[6] <= 0.5\\ngini = 0.133\\nsamples = 14\\nvalue = [13, 1]'),\n",
       " Text(0.2364341085271318, 0.08823529411764706, 'X[0] <= 157.5\\ngini = 0.444\\nsamples = 3\\nvalue = [2, 1]'),\n",
       " Text(0.22868217054263565, 0.029411764705882353, 'gini = 0.0\\nsamples = 2\\nvalue = [2, 0]'),\n",
       " Text(0.2441860465116279, 0.029411764705882353, 'gini = 0.0\\nsamples = 1\\nvalue = [0, 1]'),\n",
       " Text(0.25193798449612403, 0.08823529411764706, 'gini = 0.0\\nsamples = 11\\nvalue = [11, 0]'),\n",
       " Text(0.2751937984496124, 0.14705882352941177, 'X[0] <= 737.0\\ngini = 0.48\\nsamples = 5\\nvalue = [3, 2]'),\n",
       " Text(0.26744186046511625, 0.08823529411764706, 'X[3] <= 27.85\\ngini = 0.444\\nsamples = 3\\nvalue = [1, 2]'),\n",
       " Text(0.2596899224806202, 0.029411764705882353, 'gini = 0.0\\nsamples = 2\\nvalue = [0, 2]'),\n",
       " Text(0.2751937984496124, 0.029411764705882353, 'gini = 0.0\\nsamples = 1\\nvalue = [1, 0]'),\n",
       " Text(0.28294573643410853, 0.08823529411764706, 'gini = 0.0\\nsamples = 2\\nvalue = [2, 0]'),\n",
       " Text(0.29844961240310075, 0.20588235294117646, 'X[0] <= 203.5\\ngini = 0.375\\nsamples = 4\\nvalue = [1, 3]'),\n",
       " Text(0.29069767441860467, 0.14705882352941177, 'gini = 0.0\\nsamples = 1\\nvalue = [1, 0]'),\n",
       " Text(0.3062015503875969, 0.14705882352941177, 'gini = 0.0\\nsamples = 3\\nvalue = [0, 3]'),\n",
       " Text(0.27906976744186046, 0.38235294117647056, 'gini = 0.0\\nsamples = 1\\nvalue = [0, 1]'),\n",
       " Text(0.2868217054263566, 0.4411764705882353, 'gini = 0.0\\nsamples = 6\\nvalue = [6, 0]'),\n",
       " Text(0.29457364341085274, 0.5, 'gini = 0.0\\nsamples = 1\\nvalue = [0, 1]'),\n",
       " Text(0.27906976744186046, 0.6764705882352942, 'gini = 0.0\\nsamples = 8\\nvalue = [8, 0]'),\n",
       " Text(0.35658914728682173, 0.8529411764705882, 'X[0] <= 66.0\\ngini = 0.5\\nsamples = 39\\nvalue = [19, 20]'),\n",
       " Text(0.3488372093023256, 0.7941176470588235, 'gini = 0.0\\nsamples = 3\\nvalue = [3, 0]'),\n",
       " Text(0.3643410852713178, 0.7941176470588235, 'X[4] <= 3.5\\ngini = 0.494\\nsamples = 36\\nvalue = [16, 20]'),\n",
       " Text(0.3333333333333333, 0.7352941176470589, 'X[2] <= 2.5\\ngini = 0.434\\nsamples = 22\\nvalue = [7, 15]'),\n",
       " Text(0.3178294573643411, 0.6764705882352942, 'X[2] <= 1.5\\ngini = 0.444\\nsamples = 6\\nvalue = [4, 2]'),\n",
       " Text(0.31007751937984496, 0.6176470588235294, 'X[5] <= 3.0\\ngini = 0.444\\nsamples = 3\\nvalue = [1, 2]'),\n",
       " Text(0.3023255813953488, 0.5588235294117647, 'gini = 0.0\\nsamples = 2\\nvalue = [0, 2]'),\n",
       " Text(0.3178294573643411, 0.5588235294117647, 'gini = 0.0\\nsamples = 1\\nvalue = [1, 0]'),\n",
       " Text(0.32558139534883723, 0.6176470588235294, 'gini = 0.0\\nsamples = 3\\nvalue = [3, 0]'),\n",
       " Text(0.3488372093023256, 0.6764705882352942, 'X[0] <= 117.5\\ngini = 0.305\\nsamples = 16\\nvalue = [3, 13]'),\n",
       " Text(0.34108527131782945, 0.6176470588235294, 'gini = 0.0\\nsamples = 1\\nvalue = [1, 0]'),\n",
       " Text(0.35658914728682173, 0.6176470588235294, 'X[0] <= 731.5\\ngini = 0.231\\nsamples = 15\\nvalue = [2, 13]'),\n",
       " Text(0.34108527131782945, 0.5588235294117647, 'X[0] <= 161.0\\ngini = 0.142\\nsamples = 13\\nvalue = [1, 12]'),\n",
       " Text(0.3333333333333333, 0.5, 'X[3] <= 35.1\\ngini = 0.444\\nsamples = 3\\nvalue = [1, 2]'),\n",
       " Text(0.32558139534883723, 0.4411764705882353, 'gini = 0.0\\nsamples = 2\\nvalue = [0, 2]'),\n",
       " Text(0.34108527131782945, 0.4411764705882353, 'gini = 0.0\\nsamples = 1\\nvalue = [1, 0]'),\n",
       " Text(0.3488372093023256, 0.5, 'gini = 0.0\\nsamples = 10\\nvalue = [0, 10]'),\n",
       " Text(0.37209302325581395, 0.5588235294117647, 'X[0] <= 836.5\\ngini = 0.5\\nsamples = 2\\nvalue = [1, 1]'),\n",
       " Text(0.3643410852713178, 0.5, 'gini = 0.0\\nsamples = 1\\nvalue = [1, 0]'),\n",
       " Text(0.3798449612403101, 0.5, 'gini = 0.0\\nsamples = 1\\nvalue = [0, 1]'),\n",
       " Text(0.3953488372093023, 0.7352941176470589, 'X[0] <= 140.0\\ngini = 0.459\\nsamples = 14\\nvalue = [9, 5]'),\n",
       " Text(0.3875968992248062, 0.6764705882352942, 'gini = 0.0\\nsamples = 2\\nvalue = [0, 2]'),\n",
       " Text(0.40310077519379844, 0.6764705882352942, 'X[0] <= 857.5\\ngini = 0.375\\nsamples = 12\\nvalue = [9, 3]'),\n",
       " Text(0.3953488372093023, 0.6176470588235294, 'X[3] <= 21.85\\ngini = 0.298\\nsamples = 11\\nvalue = [9, 2]'),\n",
       " Text(0.3875968992248062, 0.5588235294117647, 'gini = 0.0\\nsamples = 5\\nvalue = [5, 0]'),\n",
       " Text(0.40310077519379844, 0.5588235294117647, 'X[0] <= 170.5\\ngini = 0.444\\nsamples = 6\\nvalue = [4, 2]'),\n",
       " Text(0.3953488372093023, 0.5, 'gini = 0.0\\nsamples = 1\\nvalue = [1, 0]'),\n",
       " Text(0.4108527131782946, 0.5, 'X[0] <= 191.5\\ngini = 0.48\\nsamples = 5\\nvalue = [3, 2]'),\n",
       " Text(0.40310077519379844, 0.4411764705882353, 'gini = 0.0\\nsamples = 1\\nvalue = [0, 1]'),\n",
       " Text(0.4186046511627907, 0.4411764705882353, 'X[0] <= 559.0\\ngini = 0.375\\nsamples = 4\\nvalue = [3, 1]'),\n",
       " Text(0.4108527131782946, 0.38235294117647056, 'gini = 0.0\\nsamples = 2\\nvalue = [2, 0]'),\n",
       " Text(0.4263565891472868, 0.38235294117647056, 'X[0] <= 820.0\\ngini = 0.5\\nsamples = 2\\nvalue = [1, 1]'),\n",
       " Text(0.4186046511627907, 0.3235294117647059, 'gini = 0.0\\nsamples = 1\\nvalue = [0, 1]'),\n",
       " Text(0.43410852713178294, 0.3235294117647059, 'gini = 0.0\\nsamples = 1\\nvalue = [1, 0]'),\n",
       " Text(0.4108527131782946, 0.6176470588235294, 'gini = 0.0\\nsamples = 1\\nvalue = [0, 1]'),\n",
       " Text(0.6515261627906976, 0.9117647058823529, 'X[3] <= 12.5\\ngini = 0.441\\nsamples = 253\\nvalue = [83, 170]'),\n",
       " Text(0.46511627906976744, 0.8529411764705882, 'X[0] <= 751.5\\ngini = 0.492\\nsamples = 32\\nvalue = [18, 14]'),\n",
       " Text(0.4573643410852713, 0.7941176470588235, 'X[0] <= 584.5\\ngini = 0.493\\nsamples = 25\\nvalue = [11, 14]'),\n",
       " Text(0.4496124031007752, 0.7352941176470589, 'X[4] <= 0.5\\ngini = 0.499\\nsamples = 21\\nvalue = [11, 10]'),\n",
       " Text(0.43410852713178294, 0.6764705882352942, 'X[2] <= 1.5\\ngini = 0.32\\nsamples = 5\\nvalue = [1, 4]'),\n",
       " Text(0.4263565891472868, 0.6176470588235294, 'gini = 0.0\\nsamples = 1\\nvalue = [1, 0]'),\n",
       " Text(0.4418604651162791, 0.6176470588235294, 'gini = 0.0\\nsamples = 4\\nvalue = [0, 4]'),\n",
       " Text(0.46511627906976744, 0.6764705882352942, 'X[0] <= 92.5\\ngini = 0.469\\nsamples = 16\\nvalue = [10, 6]'),\n",
       " Text(0.4573643410852713, 0.6176470588235294, 'gini = 0.0\\nsamples = 2\\nvalue = [0, 2]'),\n",
       " Text(0.4728682170542636, 0.6176470588235294, 'X[3] <= 0.835\\ngini = 0.408\\nsamples = 14\\nvalue = [10, 4]'),\n",
       " Text(0.46511627906976744, 0.5588235294117647, 'gini = 0.0\\nsamples = 1\\nvalue = [0, 1]'),\n",
       " Text(0.4806201550387597, 0.5588235294117647, 'X[0] <= 248.0\\ngini = 0.355\\nsamples = 13\\nvalue = [10, 3]'),\n",
       " Text(0.46511627906976744, 0.5, 'X[2] <= 2.5\\ngini = 0.48\\nsamples = 5\\nvalue = [3, 2]'),\n",
       " Text(0.4573643410852713, 0.4411764705882353, 'gini = 0.0\\nsamples = 2\\nvalue = [2, 0]'),\n",
       " Text(0.4728682170542636, 0.4411764705882353, 'X[3] <= 8.5\\ngini = 0.444\\nsamples = 3\\nvalue = [1, 2]'),\n",
       " Text(0.46511627906976744, 0.38235294117647056, 'gini = 0.0\\nsamples = 2\\nvalue = [0, 2]'),\n",
       " Text(0.4806201550387597, 0.38235294117647056, 'gini = 0.0\\nsamples = 1\\nvalue = [1, 0]'),\n",
       " Text(0.49612403100775193, 0.5, 'X[0] <= 510.5\\ngini = 0.219\\nsamples = 8\\nvalue = [7, 1]'),\n",
       " Text(0.4883720930232558, 0.4411764705882353, 'gini = 0.0\\nsamples = 6\\nvalue = [6, 0]'),\n",
       " Text(0.5038759689922481, 0.4411764705882353, 'X[0] <= 540.5\\ngini = 0.5\\nsamples = 2\\nvalue = [1, 1]'),\n",
       " Text(0.49612403100775193, 0.38235294117647056, 'gini = 0.0\\nsamples = 1\\nvalue = [0, 1]'),\n",
       " Text(0.5116279069767442, 0.38235294117647056, 'gini = 0.0\\nsamples = 1\\nvalue = [1, 0]'),\n",
       " Text(0.46511627906976744, 0.7352941176470589, 'gini = 0.0\\nsamples = 4\\nvalue = [0, 4]'),\n",
       " Text(0.4728682170542636, 0.7941176470588235, 'gini = 0.0\\nsamples = 7\\nvalue = [7, 0]'),\n",
       " Text(0.8379360465116279, 0.8529411764705882, 'X[5] <= 0.5\\ngini = 0.415\\nsamples = 221\\nvalue = [65, 156]'),\n",
       " Text(0.7107558139534884, 0.7941176470588235, 'X[0] <= 400.5\\ngini = 0.453\\nsamples = 173\\nvalue = [60, 113]'),\n",
       " Text(0.6424418604651163, 0.7352941176470589, 'X[0] <= 303.0\\ngini = 0.369\\nsamples = 82\\nvalue = [20, 62]'),\n",
       " Text(0.6104651162790697, 0.6764705882352942, 'X[0] <= 263.5\\ngini = 0.44\\nsamples = 55\\nvalue = [18, 37]'),\n",
       " Text(0.5775193798449613, 0.6176470588235294, 'X[4] <= 0.5\\ngini = 0.386\\nsamples = 46\\nvalue = [12, 34]'),\n",
       " Text(0.5581395348837209, 0.5588235294117647, 'X[6] <= 1.5\\ngini = 0.444\\nsamples = 33\\nvalue = [11, 22]'),\n",
       " Text(0.5426356589147286, 0.5, 'X[6] <= 0.5\\ngini = 0.278\\nsamples = 12\\nvalue = [2, 10]'),\n",
       " Text(0.5348837209302325, 0.4411764705882353, 'X[2] <= 2.0\\ngini = 0.408\\nsamples = 7\\nvalue = [2, 5]'),\n",
       " Text(0.5271317829457365, 0.38235294117647056, 'gini = 0.0\\nsamples = 4\\nvalue = [0, 4]'),\n",
       " Text(0.5426356589147286, 0.38235294117647056, 'X[0] <= 28.5\\ngini = 0.444\\nsamples = 3\\nvalue = [2, 1]'),\n",
       " Text(0.5348837209302325, 0.3235294117647059, 'gini = 0.0\\nsamples = 1\\nvalue = [0, 1]'),\n",
       " Text(0.5503875968992248, 0.3235294117647059, 'gini = 0.0\\nsamples = 2\\nvalue = [2, 0]'),\n",
       " Text(0.5503875968992248, 0.4411764705882353, 'gini = 0.0\\nsamples = 5\\nvalue = [0, 5]'),\n",
       " Text(0.5736434108527132, 0.5, 'X[3] <= 20.0\\ngini = 0.49\\nsamples = 21\\nvalue = [9, 12]'),\n",
       " Text(0.5658914728682171, 0.4411764705882353, 'gini = 0.0\\nsamples = 2\\nvalue = [2, 0]'),\n",
       " Text(0.5813953488372093, 0.4411764705882353, 'X[0] <= 17.0\\ngini = 0.465\\nsamples = 19\\nvalue = [7, 12]'),\n",
       " Text(0.5736434108527132, 0.38235294117647056, 'gini = 0.0\\nsamples = 3\\nvalue = [0, 3]'),\n",
       " Text(0.5891472868217055, 0.38235294117647056, 'X[0] <= 39.5\\ngini = 0.492\\nsamples = 16\\nvalue = [7, 9]'),\n",
       " Text(0.5813953488372093, 0.3235294117647059, 'gini = 0.0\\nsamples = 2\\nvalue = [2, 0]'),\n",
       " Text(0.5968992248062015, 0.3235294117647059, 'X[2] <= 2.5\\ngini = 0.459\\nsamples = 14\\nvalue = [5, 9]'),\n",
       " Text(0.5813953488372093, 0.2647058823529412, 'X[3] <= 42.5\\ngini = 0.245\\nsamples = 7\\nvalue = [1, 6]'),\n",
       " Text(0.5736434108527132, 0.20588235294117646, 'gini = 0.0\\nsamples = 6\\nvalue = [0, 6]'),\n",
       " Text(0.5891472868217055, 0.20588235294117646, 'gini = 0.0\\nsamples = 1\\nvalue = [1, 0]'),\n",
       " Text(0.6124031007751938, 0.2647058823529412, 'X[3] <= 22.5\\ngini = 0.49\\nsamples = 7\\nvalue = [4, 3]'),\n",
       " Text(0.6046511627906976, 0.20588235294117646, 'gini = 0.0\\nsamples = 1\\nvalue = [0, 1]'),\n",
       " Text(0.6201550387596899, 0.20588235294117646, 'X[0] <= 182.0\\ngini = 0.444\\nsamples = 6\\nvalue = [4, 2]'),\n",
       " Text(0.6124031007751938, 0.14705882352941177, 'X[0] <= 94.0\\ngini = 0.32\\nsamples = 5\\nvalue = [4, 1]'),\n",
       " Text(0.6046511627906976, 0.08823529411764706, 'X[3] <= 31.0\\ngini = 0.5\\nsamples = 2\\nvalue = [1, 1]'),\n",
       " Text(0.5968992248062015, 0.029411764705882353, 'gini = 0.0\\nsamples = 1\\nvalue = [0, 1]'),\n",
       " Text(0.6124031007751938, 0.029411764705882353, 'gini = 0.0\\nsamples = 1\\nvalue = [1, 0]'),\n",
       " Text(0.6201550387596899, 0.08823529411764706, 'gini = 0.0\\nsamples = 3\\nvalue = [3, 0]'),\n",
       " Text(0.627906976744186, 0.14705882352941177, 'gini = 0.0\\nsamples = 1\\nvalue = [0, 1]'),\n",
       " Text(0.5968992248062015, 0.5588235294117647, 'X[0] <= 206.0\\ngini = 0.142\\nsamples = 13\\nvalue = [1, 12]'),\n",
       " Text(0.5891472868217055, 0.5, 'gini = 0.0\\nsamples = 10\\nvalue = [0, 10]'),\n",
       " Text(0.6046511627906976, 0.5, 'X[3] <= 36.5\\ngini = 0.444\\nsamples = 3\\nvalue = [1, 2]'),\n",
       " Text(0.5968992248062015, 0.4411764705882353, 'gini = 0.0\\nsamples = 2\\nvalue = [0, 2]'),\n",
       " Text(0.6124031007751938, 0.4411764705882353, 'gini = 0.0\\nsamples = 1\\nvalue = [1, 0]'),\n",
       " Text(0.6434108527131783, 0.6176470588235294, 'X[6] <= 1.5\\ngini = 0.444\\nsamples = 9\\nvalue = [6, 3]'),\n",
       " Text(0.627906976744186, 0.5588235294117647, 'X[4] <= 1.0\\ngini = 0.444\\nsamples = 3\\nvalue = [1, 2]'),\n",
       " Text(0.6201550387596899, 0.5, 'gini = 0.0\\nsamples = 2\\nvalue = [0, 2]'),\n",
       " Text(0.6356589147286822, 0.5, 'gini = 0.0\\nsamples = 1\\nvalue = [1, 0]'),\n",
       " Text(0.6589147286821705, 0.5588235294117647, 'X[2] <= 1.5\\ngini = 0.278\\nsamples = 6\\nvalue = [5, 1]'),\n",
       " Text(0.6511627906976745, 0.5, 'X[3] <= 32.35\\ngini = 0.5\\nsamples = 2\\nvalue = [1, 1]'),\n",
       " Text(0.6434108527131783, 0.4411764705882353, 'gini = 0.0\\nsamples = 1\\nvalue = [1, 0]'),\n",
       " Text(0.6589147286821705, 0.4411764705882353, 'gini = 0.0\\nsamples = 1\\nvalue = [0, 1]'),\n",
       " Text(0.6666666666666666, 0.5, 'gini = 0.0\\nsamples = 4\\nvalue = [4, 0]'),\n",
       " Text(0.6744186046511628, 0.6764705882352942, 'X[0] <= 370.5\\ngini = 0.137\\nsamples = 27\\nvalue = [2, 25]'),\n",
       " Text(0.6666666666666666, 0.6176470588235294, 'gini = 0.0\\nsamples = 18\\nvalue = [0, 18]'),\n",
       " Text(0.6821705426356589, 0.6176470588235294, 'X[0] <= 374.0\\ngini = 0.346\\nsamples = 9\\nvalue = [2, 7]'),\n",
       " Text(0.6744186046511628, 0.5588235294117647, 'gini = 0.0\\nsamples = 1\\nvalue = [1, 0]'),\n",
       " Text(0.689922480620155, 0.5588235294117647, 'X[3] <= 21.5\\ngini = 0.219\\nsamples = 8\\nvalue = [1, 7]'),\n",
       " Text(0.6821705426356589, 0.5, 'X[0] <= 391.0\\ngini = 0.5\\nsamples = 2\\nvalue = [1, 1]'),\n",
       " Text(0.6744186046511628, 0.4411764705882353, 'gini = 0.0\\nsamples = 1\\nvalue = [0, 1]'),\n",
       " Text(0.689922480620155, 0.4411764705882353, 'gini = 0.0\\nsamples = 1\\nvalue = [1, 0]'),\n",
       " Text(0.6976744186046512, 0.5, 'gini = 0.0\\nsamples = 6\\nvalue = [0, 6]'),\n",
       " Text(0.7790697674418605, 0.7352941176470589, 'X[3] <= 24.5\\ngini = 0.493\\nsamples = 91\\nvalue = [40, 51]'),\n",
       " Text(0.7209302325581395, 0.6764705882352942, 'X[2] <= 2.5\\ngini = 0.198\\nsamples = 18\\nvalue = [2, 16]'),\n",
       " Text(0.7131782945736435, 0.6176470588235294, 'gini = 0.0\\nsamples = 10\\nvalue = [0, 10]'),\n",
       " Text(0.7286821705426356, 0.6176470588235294, 'X[4] <= 0.5\\ngini = 0.375\\nsamples = 8\\nvalue = [2, 6]'),\n",
       " Text(0.7209302325581395, 0.5588235294117647, 'X[0] <= 554.5\\ngini = 0.245\\nsamples = 7\\nvalue = [1, 6]'),\n",
       " Text(0.7131782945736435, 0.5, 'gini = 0.0\\nsamples = 1\\nvalue = [1, 0]'),\n",
       " Text(0.7286821705426356, 0.5, 'gini = 0.0\\nsamples = 6\\nvalue = [0, 6]'),\n",
       " Text(0.7364341085271318, 0.5588235294117647, 'gini = 0.0\\nsamples = 1\\nvalue = [1, 0]'),\n",
       " Text(0.8372093023255814, 0.6764705882352942, 'X[4] <= 0.5\\ngini = 0.499\\nsamples = 73\\nvalue = [38, 35]'),\n",
       " Text(0.7906976744186046, 0.6176470588235294, 'X[2] <= 2.5\\ngini = 0.482\\nsamples = 52\\nvalue = [31, 21]'),\n",
       " Text(0.7596899224806202, 0.5588235294117647, 'X[2] <= 1.5\\ngini = 0.5\\nsamples = 33\\nvalue = [16, 17]'),\n",
       " Text(0.7441860465116279, 0.5, 'X[6] <= 15.85\\ngini = 0.444\\nsamples = 21\\nvalue = [14, 7]'),\n",
       " Text(0.7364341085271318, 0.4411764705882353, 'X[0] <= 860.5\\ngini = 0.42\\nsamples = 20\\nvalue = [14, 6]'),\n",
       " Text(0.7286821705426356, 0.38235294117647056, 'X[3] <= 41.0\\ngini = 0.388\\nsamples = 19\\nvalue = [14, 5]'),\n",
       " Text(0.7209302325581395, 0.3235294117647059, 'X[3] <= 28.5\\ngini = 0.473\\nsamples = 13\\nvalue = [8, 5]'),\n",
       " Text(0.7131782945736435, 0.2647058823529412, 'gini = 0.0\\nsamples = 3\\nvalue = [3, 0]'),\n",
       " Text(0.7286821705426356, 0.2647058823529412, 'X[0] <= 621.5\\ngini = 0.5\\nsamples = 10\\nvalue = [5, 5]'),\n",
       " Text(0.7209302325581395, 0.20588235294117646, 'gini = 0.0\\nsamples = 3\\nvalue = [0, 3]'),\n",
       " Text(0.7364341085271318, 0.20588235294117646, 'X[3] <= 29.35\\ngini = 0.408\\nsamples = 7\\nvalue = [5, 2]'),\n",
       " Text(0.7286821705426356, 0.14705882352941177, 'gini = 0.0\\nsamples = 1\\nvalue = [0, 1]'),\n",
       " Text(0.7441860465116279, 0.14705882352941177, 'X[0] <= 750.5\\ngini = 0.278\\nsamples = 6\\nvalue = [5, 1]'),\n",
       " Text(0.7364341085271318, 0.08823529411764706, 'gini = 0.0\\nsamples = 4\\nvalue = [4, 0]'),\n",
       " Text(0.751937984496124, 0.08823529411764706, 'X[3] <= 31.35\\ngini = 0.5\\nsamples = 2\\nvalue = [1, 1]'),\n",
       " Text(0.7441860465116279, 0.029411764705882353, 'gini = 0.0\\nsamples = 1\\nvalue = [1, 0]'),\n",
       " Text(0.7596899224806202, 0.029411764705882353, 'gini = 0.0\\nsamples = 1\\nvalue = [0, 1]'),\n",
       " Text(0.7364341085271318, 0.3235294117647059, 'gini = 0.0\\nsamples = 6\\nvalue = [6, 0]'),\n",
       " Text(0.7441860465116279, 0.38235294117647056, 'gini = 0.0\\nsamples = 1\\nvalue = [0, 1]'),\n",
       " Text(0.751937984496124, 0.4411764705882353, 'gini = 0.0\\nsamples = 1\\nvalue = [0, 1]'),\n",
       " Text(0.7751937984496124, 0.5, 'X[6] <= 1.0\\ngini = 0.278\\nsamples = 12\\nvalue = [2, 10]'),\n",
       " Text(0.7674418604651163, 0.4411764705882353, 'gini = 0.0\\nsamples = 1\\nvalue = [1, 0]'),\n",
       " Text(0.7829457364341085, 0.4411764705882353, 'X[3] <= 56.0\\ngini = 0.165\\nsamples = 11\\nvalue = [1, 10]'),\n",
       " Text(0.7751937984496124, 0.38235294117647056, 'gini = 0.0\\nsamples = 10\\nvalue = [0, 10]'),\n",
       " Text(0.7906976744186046, 0.38235294117647056, 'gini = 0.0\\nsamples = 1\\nvalue = [1, 0]'),\n",
       " Text(0.8217054263565892, 0.5588235294117647, 'X[6] <= 1.5\\ngini = 0.332\\nsamples = 19\\nvalue = [15, 4]'),\n",
       " Text(0.8062015503875969, 0.5, 'X[0] <= 542.5\\ngini = 0.5\\nsamples = 6\\nvalue = [3, 3]'),\n",
       " Text(0.7984496124031008, 0.4411764705882353, 'gini = 0.0\\nsamples = 2\\nvalue = [2, 0]'),\n",
       " Text(0.813953488372093, 0.4411764705882353, 'X[0] <= 778.5\\ngini = 0.375\\nsamples = 4\\nvalue = [1, 3]'),\n",
       " Text(0.8062015503875969, 0.38235294117647056, 'gini = 0.0\\nsamples = 3\\nvalue = [0, 3]'),\n",
       " Text(0.8217054263565892, 0.38235294117647056, 'gini = 0.0\\nsamples = 1\\nvalue = [1, 0]'),\n",
       " Text(0.8372093023255814, 0.5, 'X[0] <= 771.5\\ngini = 0.142\\nsamples = 13\\nvalue = [12, 1]'),\n",
       " Text(0.8294573643410853, 0.4411764705882353, 'gini = 0.0\\nsamples = 9\\nvalue = [9, 0]'),\n",
       " Text(0.8449612403100775, 0.4411764705882353, 'X[0] <= 801.5\\ngini = 0.375\\nsamples = 4\\nvalue = [3, 1]'),\n",
       " Text(0.8372093023255814, 0.38235294117647056, 'gini = 0.0\\nsamples = 1\\nvalue = [0, 1]'),\n",
       " Text(0.8527131782945736, 0.38235294117647056, 'gini = 0.0\\nsamples = 3\\nvalue = [3, 0]'),\n",
       " Text(0.8837209302325582, 0.6176470588235294, 'X[0] <= 726.0\\ngini = 0.444\\nsamples = 21\\nvalue = [7, 14]'),\n",
       " Text(0.875968992248062, 0.5588235294117647, 'X[0] <= 629.5\\ngini = 0.492\\nsamples = 16\\nvalue = [7, 9]'),\n",
       " Text(0.8682170542635659, 0.5, 'X[3] <= 27.35\\ngini = 0.375\\nsamples = 12\\nvalue = [3, 9]'),\n",
       " Text(0.8604651162790697, 0.4411764705882353, 'gini = 0.0\\nsamples = 1\\nvalue = [1, 0]'),\n",
       " Text(0.875968992248062, 0.4411764705882353, 'X[0] <= 550.5\\ngini = 0.298\\nsamples = 11\\nvalue = [2, 9]'),\n",
       " Text(0.8682170542635659, 0.38235294117647056, 'X[0] <= 529.0\\ngini = 0.444\\nsamples = 6\\nvalue = [2, 4]'),\n",
       " Text(0.8604651162790697, 0.3235294117647059, 'X[0] <= 443.5\\ngini = 0.32\\nsamples = 5\\nvalue = [1, 4]'),\n",
       " Text(0.8527131782945736, 0.2647058823529412, 'gini = 0.0\\nsamples = 2\\nvalue = [0, 2]'),\n",
       " Text(0.8682170542635659, 0.2647058823529412, 'X[0] <= 475.5\\ngini = 0.444\\nsamples = 3\\nvalue = [1, 2]'),\n",
       " Text(0.8604651162790697, 0.20588235294117646, 'gini = 0.0\\nsamples = 1\\nvalue = [1, 0]'),\n",
       " Text(0.875968992248062, 0.20588235294117646, 'gini = 0.0\\nsamples = 2\\nvalue = [0, 2]'),\n",
       " Text(0.875968992248062, 0.3235294117647059, 'gini = 0.0\\nsamples = 1\\nvalue = [1, 0]'),\n",
       " Text(0.8837209302325582, 0.38235294117647056, 'gini = 0.0\\nsamples = 5\\nvalue = [0, 5]'),\n",
       " Text(0.8837209302325582, 0.5, 'gini = 0.0\\nsamples = 4\\nvalue = [4, 0]'),\n",
       " Text(0.8914728682170543, 0.5588235294117647, 'gini = 0.0\\nsamples = 5\\nvalue = [0, 5]'),\n",
       " Text(0.9651162790697675, 0.7941176470588235, 'X[3] <= 59.0\\ngini = 0.187\\nsamples = 48\\nvalue = [5, 43]'),\n",
       " Text(0.9573643410852714, 0.7352941176470589, 'X[6] <= 1.0\\ngini = 0.156\\nsamples = 47\\nvalue = [4, 43]'),\n",
       " Text(0.9302325581395349, 0.6764705882352942, 'X[3] <= 20.5\\ngini = 0.375\\nsamples = 12\\nvalue = [3, 9]'),\n",
       " Text(0.9147286821705426, 0.6176470588235294, 'X[3] <= 16.5\\ngini = 0.444\\nsamples = 3\\nvalue = [2, 1]'),\n",
       " Text(0.9069767441860465, 0.5588235294117647, 'gini = 0.0\\nsamples = 1\\nvalue = [0, 1]'),\n",
       " Text(0.9224806201550387, 0.5588235294117647, 'gini = 0.0\\nsamples = 2\\nvalue = [2, 0]'),\n",
       " Text(0.9457364341085271, 0.6176470588235294, 'X[3] <= 32.85\\ngini = 0.198\\nsamples = 9\\nvalue = [1, 8]'),\n",
       " Text(0.937984496124031, 0.5588235294117647, 'gini = 0.0\\nsamples = 5\\nvalue = [0, 5]'),\n",
       " Text(0.9534883720930233, 0.5588235294117647, 'X[3] <= 37.5\\ngini = 0.375\\nsamples = 4\\nvalue = [1, 3]'),\n",
       " Text(0.9457364341085271, 0.5, 'gini = 0.0\\nsamples = 1\\nvalue = [1, 0]'),\n",
       " Text(0.9612403100775194, 0.5, 'gini = 0.0\\nsamples = 3\\nvalue = [0, 3]'),\n",
       " Text(0.9844961240310077, 0.6764705882352942, 'X[0] <= 259.0\\ngini = 0.056\\nsamples = 35\\nvalue = [1, 34]'),\n",
       " Text(0.9767441860465116, 0.6176470588235294, 'X[0] <= 248.5\\ngini = 0.245\\nsamples = 7\\nvalue = [1, 6]'),\n",
       " Text(0.9689922480620154, 0.5588235294117647, 'gini = 0.0\\nsamples = 6\\nvalue = [0, 6]'),\n",
       " Text(0.9844961240310077, 0.5588235294117647, 'gini = 0.0\\nsamples = 1\\nvalue = [1, 0]'),\n",
       " Text(0.9922480620155039, 0.6176470588235294, 'gini = 0.0\\nsamples = 28\\nvalue = [0, 28]'),\n",
       " Text(0.9728682170542635, 0.7352941176470589, 'gini = 0.0\\nsamples = 1\\nvalue = [1, 0]')]"
      ]
     },
     "execution_count": 80,
     "metadata": {},
     "output_type": "execute_result"
    },
    {
     "data": {
      "image/png": "[encoded data removed]",
      "text/plain": [
       "<Figure size 432x288 with 1 Axes>"
      ]
     },
     "metadata": {
      "needs_background": "light"
     },
     "output_type": "display_data"
    }
   ],
   "source": [
    "from sklearn import tree\n",
    "\n",
    "tree.plot_tree(dtree)"
   ]
  },
  {
   "cell_type": "markdown",
   "metadata": {},
   "source": [
    "### Optimasation Decision Tree"
   ]
  },
  {
   "cell_type": "code",
   "execution_count": 83,
   "metadata": {},
   "outputs": [],
   "source": [
    "from sklearn.model_selection import GridSearchCV\n",
    "param = [{\"max_depth\" : list(range(2, 10)),'criterion' : ['gini','entropy']}]\n",
    "grid =  GridSearchCV(DecisionTreeClassifier(), param, cv = 10, n_jobs = -1)\n",
    "grid = grid.fit(X_train, y_train)"
   ]
  },
  {
   "cell_type": "code",
   "execution_count": 93,
   "metadata": {},
   "outputs": [
    {
     "name": "stdout",
     "output_type": "stream",
     "text": [
      "best parameter : {'criterion': 'entropy', 'max_depth': 3}\n",
      " best score : 0.7845092718227047\n"
     ]
    }
   ],
   "source": [
    "print(f'best parameter : {grid.best_params_}\\n best score : {grid.best_score_}')"
   ]
  },
  {
   "cell_type": "code",
   "execution_count": 98,
   "metadata": {},
   "outputs": [
    {
     "data": {
      "text/plain": [
       "0.7892376681614349"
      ]
     },
     "execution_count": 98,
     "metadata": {},
     "output_type": "execute_result"
    }
   ],
   "source": [
    "from sklearn.metrics import accuracy_score\n",
    "dtree_optimised=DecisionTreeClassifier(criterion='entropy',max_depth=3, random_state=42)\n",
    "dtree_optimised.fit(X_train, y_train)\n",
    "y_tree_optimized_predic = dtree_optimised.predict(X_test)\n",
    "dtree_score_optimized =accuracy_score(y_test,y_tree_optimized_predic)\n",
    "dtree_score_optimized"
   ]
  },
  {
   "cell_type": "code",
   "execution_count": 103,
   "metadata": {},
   "outputs": [
    {
     "data": {
      "image/png": "[encoded data removed]",
      "text/plain": [
       "<Figure size 1080x720 with 1 Axes>"
      ]
     },
     "metadata": {
      "needs_background": "light"
     },
     "output_type": "display_data"
    }
   ],
   "source": [
    "fig = plt.figure(figsize=(15,10))\n",
    "tree.plot_tree(dtree_optimised,class_names=['0','1'],feature_names=X.columns,\n",
    "                   filled=True,fontsize=10)\n",
    "fig.savefig(\"decistion_tree.png\")"
   ]
  },
  {
   "cell_type": "code",
   "execution_count": 94,
   "metadata": {},
   "outputs": [
    {
     "data": {
      "text/plain": [
       "<AxesSubplot:>"
      ]
     },
     "execution_count": 94,
     "metadata": {},
     "output_type": "execute_result"
    },
    {
     "data": {
      "image/png": "[encoded data removed]",
      "text/plain": [
       "<Figure size 432x288 with 2 Axes>"
      ]
     },
     "metadata": {
      "needs_background": "light"
     },
     "output_type": "display_data"
    }
   ],
   "source": [
    "from sklearn.metrics import confusion_matrix\n",
    "import seaborn as sns\n",
    "import numpy as np\n",
    "cf_matrix = confusion_matrix(y_test,y_tree_optimized_predic)\n",
    "sns.heatmap(cf_matrix, annot=True,fmt='', cmap='Blues')"
   ]
  },
  {
   "cell_type": "markdown",
   "metadata": {},
   "source": [
    "## KNN"
   ]
  },
  {
   "cell_type": "code",
   "execution_count": 104,
   "metadata": {},
   "outputs": [
    {
     "data": {
      "text/plain": [
       "0.5336322869955157"
      ]
     },
     "execution_count": 104,
     "metadata": {},
     "output_type": "execute_result"
    }
   ],
   "source": [
    "from sklearn.neighbors import KNeighborsClassifier\n",
    "knn = KNeighborsClassifier()\n",
    "knn.fit(X_train,y_train)\n",
    "knn_pre = knn.predict(X_test)\n",
    "knn_score = accuracy_score(y_test,knn_pre)\n",
    "knn_score"
   ]
  },
  {
   "cell_type": "code",
   "execution_count": 126,
   "metadata": {},
   "outputs": [
    {
     "data": {
      "text/plain": [
       "<AxesSubplot:>"
      ]
     },
     "execution_count": 126,
     "metadata": {},
     "output_type": "execute_result"
    },
    {
     "data": {
      "image/png": "[encoded data removed]",
      "text/plain": [
       "<Figure size 432x288 with 2 Axes>"
      ]
     },
     "metadata": {
      "needs_background": "light"
     },
     "output_type": "display_data"
    }
   ],
   "source": [
    "cf_matrix = confusion_matrix(y_test,knn_pre)\n",
    "sns.heatmap(cf_matrix, annot=True,fmt='', cmap='Blues')"
   ]
  },
  {
   "cell_type": "markdown",
   "metadata": {},
   "source": [
    "### Cross Validation KNN"
   ]
  },
  {
   "cell_type": "code",
   "execution_count": 105,
   "metadata": {},
   "outputs": [
    {
     "data": {
      "image/png": "[encoded data removed]",
      "text/plain": [
       "<Figure size 432x288 with 1 Axes>"
      ]
     },
     "metadata": {
      "needs_background": "light"
     },
     "output_type": "display_data"
    }
   ],
   "source": [
    "from sklearn.model_selection import cross_val_score\n",
    "k_range = range(1, 41)\n",
    "k_scores = []\n",
    "\n",
    "for k in k_range:\n",
    "    knn =  KNeighborsClassifier(n_neighbors=k)\n",
    "    scores = cross_val_score(knn, X_train, y_train,cv=10,scoring='accuracy')\n",
    "    k_scores.append(scores.mean())\n",
    "\n",
    "plt.plot(k_range, k_scores)\n",
    "plt.xlabel('Valeur de K')\n",
    "plt.ylabel('Precision')\n",
    "plt.show()"
   ]
  },
  {
   "cell_type": "code",
   "execution_count": 109,
   "metadata": {},
   "outputs": [
    {
     "name": "stdout",
     "output_type": "stream",
     "text": [
      "Fitting 10 folds for each of 40 candidates, totalling 400 fits\n"
     ]
    }
   ],
   "source": [
    "k_range = list(range(1, 41))\n",
    "param_grid = dict(n_neighbors=k_range)\n",
    "grid_knn = GridSearchCV(knn, param_grid, cv=10, scoring='accuracy', return_train_score=False,verbose=1)\n",
    "grid_search=grid_knn.fit(X_train, y_train)"
   ]
  },
  {
   "cell_type": "code",
   "execution_count": 110,
   "metadata": {},
   "outputs": [
    {
     "data": {
      "text/plain": [
       "KNeighborsClassifier(n_neighbors=16)"
      ]
     },
     "execution_count": 110,
     "metadata": {},
     "output_type": "execute_result"
    }
   ],
   "source": [
    "grid_search.best_estimator_"
   ]
  },
  {
   "cell_type": "code",
   "execution_count": 115,
   "metadata": {},
   "outputs": [
    {
     "data": {
      "text/plain": [
       "0.6632519222071461"
      ]
     },
     "execution_count": 115,
     "metadata": {},
     "output_type": "execute_result"
    }
   ],
   "source": [
    "best_score_knn = grid_search.best_score_\n",
    "best_score_knn"
   ]
  },
  {
   "cell_type": "code",
   "execution_count": 117,
   "metadata": {},
   "outputs": [
    {
     "data": {
      "text/plain": [
       "{'n_neighbors': 16}"
      ]
     },
     "execution_count": 117,
     "metadata": {},
     "output_type": "execute_result"
    }
   ],
   "source": [
    "grid_search.best_params_"
   ]
  },
  {
   "cell_type": "code",
   "execution_count": 124,
   "metadata": {},
   "outputs": [
    {
     "data": {
      "text/plain": [
       "0.6053811659192825"
      ]
     },
     "execution_count": 124,
     "metadata": {},
     "output_type": "execute_result"
    }
   ],
   "source": [
    "knn_optimized = KNeighborsClassifier(n_neighbors=16)\n",
    "knn_optimized.fit(X_train,y_train)\n",
    "knn_pre_op = knn_optimized.predict(X_test)\n",
    "knn_score_op = accuracy_score(y_test,knn_pre_op)\n",
    "knn_score_op"
   ]
  },
  {
   "cell_type": "code",
   "execution_count": 125,
   "metadata": {},
   "outputs": [
    {
     "data": {
      "text/plain": [
       "<AxesSubplot:>"
      ]
     },
     "execution_count": 125,
     "metadata": {},
     "output_type": "execute_result"
    },
    {
     "data": {
      "image/png": "[encoded data removed]",
      "text/plain": [
       "<Figure size 432x288 with 2 Axes>"
      ]
     },
     "metadata": {
      "needs_background": "light"
     },
     "output_type": "display_data"
    }
   ],
   "source": [
    "cf_matrix = confusion_matrix(y_test,knn_pre_op)\n",
    "sns.heatmap(cf_matrix, annot=True,fmt='', cmap='Blues')"
   ]
  },
  {
   "cell_type": "markdown",
   "metadata": {},
   "source": [
    "# Random Forest"
   ]
  },
  {
   "cell_type": "code",
   "execution_count": 134,
   "metadata": {},
   "outputs": [
    {
     "data": {
      "text/plain": [
       "0.7785617367706921"
      ]
     },
     "execution_count": 134,
     "metadata": {},
     "output_type": "execute_result"
    }
   ],
   "source": [
    "from sklearn.ensemble import RandomForestClassifier\n",
    "rf = RandomForestClassifier()\n",
    "rf.fit(X_train,y_train)\n",
    "rf_predict = rf.predict(X_test)\n",
    "acc_rf = cross_val_score(rf, X_train, y_train, cv=10)\n",
    "acc_rf\n",
    "rf_score = acc_rf.mean()\n",
    "rf_score"
   ]
  },
  {
   "cell_type": "code",
   "execution_count": 135,
   "metadata": {},
   "outputs": [
    {
     "data": {
      "text/plain": [
       "<AxesSubplot:>"
      ]
     },
     "execution_count": 135,
     "metadata": {},
     "output_type": "execute_result"
    },
    {
     "data": {
      "image/png": "[encoded data removed]",
      "text/plain": [
       "<Figure size 432x288 with 2 Axes>"
      ]
     },
     "metadata": {
      "needs_background": "light"
     },
     "output_type": "display_data"
    }
   ],
   "source": [
    "cf_matrix = confusion_matrix(y_test,rf_predict)\n",
    "sns.heatmap(cf_matrix, annot=True,fmt='', cmap='Blues')"
   ]
  },
  {
   "cell_type": "code",
   "execution_count": null,
   "metadata": {},
   "outputs": [],
   "source": []
  }
 ],
 "metadata": {
  "interpreter": {
   "hash": "070238191ba8086242bc75b747db362d34438ec977f50ee29b1b14ebe32a9a20"
  },
  "kernelspec": {
   "display_name": "Python 3.10.0 64-bit",
   "language": "python",
   "name": "python3"
  },
  "language_info": {
   "codemirror_mode": {
    "name": "ipython",
    "version": 3
   },
   "file_extension": ".py",
   "mimetype": "text/x-python",
   "name": "python",
   "nbconvert_exporter": "python",
   "pygments_lexer": "ipython3",
   "version": "3.10.0"
  },
  "orig_nbformat": 4
 },
 "nbformat": 4,
 "nbformat_minor": 2
}
